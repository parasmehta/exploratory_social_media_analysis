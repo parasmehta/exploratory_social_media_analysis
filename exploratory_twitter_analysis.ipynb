{
 "metadata": {
  "name": "",
  "signature": "sha256:52c3ffc9600cdccd4fb945ec001ef00063badc8c0b7ed1ebd6121894fbd8573f"
 },
 "nbformat": 3,
 "nbformat_minor": 0,
 "worksheets": [
  {
   "cells": [
    {
     "cell_type": "code",
     "collapsed": false,
     "input": [
      "import twitter\n",
      "import json"
     ],
     "language": "python",
     "metadata": {},
     "outputs": [],
     "prompt_number": 1
    },
    {
     "cell_type": "code",
     "collapsed": false,
     "input": [
      "import twittercredentials\n",
      "reload(twittercredentials)"
     ],
     "language": "python",
     "metadata": {},
     "outputs": [
      {
       "metadata": {},
       "output_type": "pyout",
       "prompt_number": 2,
       "text": [
        "<module 'twittercredentials' from 'twittercredentials.pyc'>"
       ]
      }
     ],
     "prompt_number": 2
    },
    {
     "cell_type": "code",
     "collapsed": false,
     "input": [
      "auth = twitter.oauth.OAuth(twittercredentials.access_token, twittercredentials.access_token_secret, twittercredentials.consumer_key, twittercredentials.consumer_secret)\n",
      "print twittercredentials.access_token"
     ],
     "language": "python",
     "metadata": {},
     "outputs": [
      {
       "output_type": "stream",
       "stream": "stdout",
       "text": [
        "263119690-rNtNkmFWOrR8D42BX7eF5zErFLBmsWN2b329nxON\n"
       ]
      }
     ],
     "prompt_number": 3
    },
    {
     "cell_type": "code",
     "collapsed": false,
     "input": [
      "twitterapi = twitter.Twitter(auth = auth)"
     ],
     "language": "python",
     "metadata": {},
     "outputs": [],
     "prompt_number": 4
    },
    {
     "cell_type": "code",
     "collapsed": false,
     "input": [
      "print twitterapi"
     ],
     "language": "python",
     "metadata": {},
     "outputs": [
      {
       "output_type": "stream",
       "stream": "stdout",
       "text": [
        "<twitter.api.Twitter object at 0x7f70d7ca0fd0>\n"
       ]
      }
     ],
     "prompt_number": 5
    },
    {
     "cell_type": "code",
     "collapsed": false,
     "input": [
      "WORLD_WOE_ID = 1\n",
      "US_WOE_ID = 23424977 # germany - 23424829\n",
      "world_trends =twitterapi.trends.place(_id=WORLD_WOE_ID)\n",
      "print json.dumps(world_trends, indent = 1)"
     ],
     "language": "python",
     "metadata": {},
     "outputs": [
      {
       "output_type": "stream",
       "stream": "stdout",
       "text": [
        "[\n",
        " {\n",
        "  \"created_at\": \"2014-08-14T09:44:23Z\", \n",
        "  \"trends\": [\n",
        "   {\n",
        "    \"url\": \"http://twitter.com/search?q=%23Replace5sosSongsWithLlama\", \n",
        "    \"query\": \"%23Replace5sosSongsWithLlama\", \n",
        "    \"name\": \"#Replace5sosSongsWithLlama\", \n",
        "    \"promoted_content\": null\n",
        "   }, \n",
        "   {\n",
        "    \"url\": \"http://twitter.com/search?q=%23BPIE\", \n",
        "    \"query\": \"%23BPIE\", \n",
        "    \"name\": \"#BPIE\", \n",
        "    \"promoted_content\": null\n",
        "   }, \n",
        "   {\n",
        "    \"url\": \"http://twitter.com/search?q=%23zadzwo%C5%84doprzypadkowegotwitterowicza\", \n",
        "    \"query\": \"%23zadzwo%C5%84doprzypadkowegotwitterowicza\", \n",
        "    \"name\": \"#zadzwo\\u0144doprzypadkowegotwitterowicza\", \n",
        "    \"promoted_content\": null\n",
        "   }, \n",
        "   {\n",
        "    \"url\": \"http://twitter.com/search?q=%23MilletinPartisi13yas%C4%B1nda\", \n",
        "    \"query\": \"%23MilletinPartisi13yas%C4%B1nda\", \n",
        "    \"name\": \"#MilletinPartisi13yas\\u0131nda\", \n",
        "    \"promoted_content\": null\n",
        "   }, \n",
        "   {\n",
        "    \"url\": \"http://twitter.com/search?q=%23%D8%AF%D8%A7%D8%B9%D8%B4_%D8%AA%D9%86%D8%AD%D8%B1_%D9%85%D8%B3%D9%84%D9%85%D9%8A_%D8%AF%D9%8A%D8%B1%D8%A7%D9%84%D8%B2%D9%88%D8%B1\", \n",
        "    \"query\": \"%23%D8%AF%D8%A7%D8%B9%D8%B4_%D8%AA%D9%86%D8%AD%D8%B1_%D9%85%D8%B3%D9%84%D9%85%D9%8A_%D8%AF%D9%8A%D8%B1%D8%A7%D9%84%D8%B2%D9%88%D8%B1\", \n",
        "    \"name\": \"#\\u062f\\u0627\\u0639\\u0634_\\u062a\\u0646\\u062d\\u0631_\\u0645\\u0633\\u0644\\u0645\\u064a_\\u062f\\u064a\\u0631\\u0627\\u0644\\u0632\\u0648\\u0631\", \n",
        "    \"promoted_content\": null\n",
        "   }, \n",
        "   {\n",
        "    \"url\": \"http://twitter.com/search?q=%22Selamat+Hari+Pramuka%22\", \n",
        "    \"query\": \"%22Selamat+Hari+Pramuka%22\", \n",
        "    \"name\": \"Selamat Hari Pramuka\", \n",
        "    \"promoted_content\": null\n",
        "   }, \n",
        "   {\n",
        "    \"url\": \"http://twitter.com/search?q=%22Lilo+%26+Stitch%22\", \n",
        "    \"query\": \"%22Lilo+%26+Stitch%22\", \n",
        "    \"name\": \"Lilo & Stitch\", \n",
        "    \"promoted_content\": null\n",
        "   }, \n",
        "   {\n",
        "    \"url\": \"http://twitter.com/search?q=%22Hello+Connor%22\", \n",
        "    \"query\": \"%22Hello+Connor%22\", \n",
        "    \"name\": \"Hello Connor\", \n",
        "    \"promoted_content\": null\n",
        "   }, \n",
        "   {\n",
        "    \"url\": \"http://twitter.com/search?q=%22S%C3%BCleyman+Seba%22\", \n",
        "    \"query\": \"%22S%C3%BCleyman+Seba%22\", \n",
        "    \"name\": \"S\\u00fcleyman Seba\", \n",
        "    \"promoted_content\": null\n",
        "   }, \n",
        "   {\n",
        "    \"url\": \"http://twitter.com/search?q=BTEC\", \n",
        "    \"query\": \"BTEC\", \n",
        "    \"name\": \"BTEC\", \n",
        "    \"promoted_content\": null\n",
        "   }\n",
        "  ], \n",
        "  \"as_of\": \"2014-08-14T09:48:52Z\", \n",
        "  \"locations\": [\n",
        "   {\n",
        "    \"woeid\": 1, \n",
        "    \"name\": \"Worldwide\"\n",
        "   }\n",
        "  ]\n",
        " }\n",
        "]\n"
       ]
      }
     ],
     "prompt_number": 6
    },
    {
     "cell_type": "code",
     "collapsed": false,
     "input": [
      "us_trends = twitterapi.trends.place(_id=US_WOE_ID)\n",
      "print json.dumps(us_trends, indent=1)"
     ],
     "language": "python",
     "metadata": {},
     "outputs": [
      {
       "output_type": "stream",
       "stream": "stdout",
       "text": [
        "[\n",
        " {\n",
        "  \"created_at\": \"2014-08-14T09:44:23Z\", \n",
        "  \"trends\": [\n",
        "   {\n",
        "    \"url\": \"http://twitter.com/search?q=%22Lilo+%26+Stitch%22\", \n",
        "    \"query\": \"%22Lilo+%26+Stitch%22\", \n",
        "    \"name\": \"Lilo & Stitch\", \n",
        "    \"promoted_content\": null\n",
        "   }, \n",
        "   {\n",
        "    \"url\": \"http://twitter.com/search?q=%23mediablackout\", \n",
        "    \"query\": \"%23mediablackout\", \n",
        "    \"name\": \"#mediablackout\", \n",
        "    \"promoted_content\": null\n",
        "   }, \n",
        "   {\n",
        "    \"url\": \"http://twitter.com/search?q=%23Replace5sosSongsWithLlama\", \n",
        "    \"query\": \"%23Replace5sosSongsWithLlama\", \n",
        "    \"name\": \"#Replace5sosSongsWithLlama\", \n",
        "    \"promoted_content\": null\n",
        "   }, \n",
        "   {\n",
        "    \"url\": \"http://twitter.com/search?q=%23SmallzysFunFirstPlay\", \n",
        "    \"query\": \"%23SmallzysFunFirstPlay\", \n",
        "    \"name\": \"#SmallzysFunFirstPlay\", \n",
        "    \"promoted_content\": null\n",
        "   }, \n",
        "   {\n",
        "    \"url\": \"http://twitter.com/search?q=%23disneythrowback\", \n",
        "    \"query\": \"%23disneythrowback\", \n",
        "    \"name\": \"#disneythrowback\", \n",
        "    \"promoted_content\": null\n",
        "   }, \n",
        "   {\n",
        "    \"url\": \"http://twitter.com/search?q=%23PrayForFerguson\", \n",
        "    \"query\": \"%23PrayForFerguson\", \n",
        "    \"name\": \"#PrayForFerguson\", \n",
        "    \"promoted_content\": null\n",
        "   }, \n",
        "   {\n",
        "    \"url\": \"http://twitter.com/search?q=%22Even+Stevens%22\", \n",
        "    \"query\": \"%22Even+Stevens%22\", \n",
        "    \"name\": \"Even Stevens\", \n",
        "    \"promoted_content\": null\n",
        "   }, \n",
        "   {\n",
        "    \"url\": \"http://twitter.com/search?q=%22Kim+Possible%22\", \n",
        "    \"query\": \"%22Kim+Possible%22\", \n",
        "    \"name\": \"Kim Possible\", \n",
        "    \"promoted_content\": null\n",
        "   }, \n",
        "   {\n",
        "    \"url\": \"http://twitter.com/search?q=%22That%27s+So+Raven%22\", \n",
        "    \"query\": \"%22That%27s+So+Raven%22\", \n",
        "    \"name\": \"That's So Raven\", \n",
        "    \"promoted_content\": null\n",
        "   }, \n",
        "   {\n",
        "    \"url\": \"http://twitter.com/search?q=Selena\", \n",
        "    \"query\": \"Selena\", \n",
        "    \"name\": \"Selena\", \n",
        "    \"promoted_content\": null\n",
        "   }\n",
        "  ], \n",
        "  \"as_of\": \"2014-08-14T09:48:53Z\", \n",
        "  \"locations\": [\n",
        "   {\n",
        "    \"woeid\": 23424977, \n",
        "    \"name\": \"United States\"\n",
        "   }\n",
        "  ]\n",
        " }\n",
        "]\n"
       ]
      }
     ],
     "prompt_number": 7
    },
    {
     "cell_type": "heading",
     "level": 3,
     "metadata": {},
     "source": [
      "Find a trending hashtag for retrieving a sample of tweets"
     ]
    },
    {
     "cell_type": "code",
     "collapsed": false,
     "input": [
      "world_trends_set = set([trend['name'] for trend in world_trends[0]['trends']])\n",
      "us_trends_set = set([trend['name'] for trend in us_trends[0]['trends']])\n",
      "common_trends = world_trends_set.intersection(us_trends_set)\n",
      "print common_trends"
     ],
     "language": "python",
     "metadata": {},
     "outputs": [
      {
       "output_type": "stream",
       "stream": "stdout",
       "text": [
        "set([u'#Replace5sosSongsWithLlama', u'Lilo & Stitch'])\n"
       ]
      }
     ],
     "prompt_number": 8
    },
    {
     "cell_type": "code",
     "collapsed": false,
     "input": [
      "common_trends_list = list(common_trends)\n",
      "q = common_trends_list[0]\n",
      "count = 100\n",
      "print q"
     ],
     "language": "python",
     "metadata": {},
     "outputs": [
      {
       "output_type": "stream",
       "stream": "stdout",
       "text": [
        "#Replace5sosSongsWithLlama\n"
       ]
      }
     ],
     "prompt_number": 9
    },
    {
     "cell_type": "heading",
     "level": 3,
     "metadata": {},
     "source": [
      "Get a sample of tweets for the chosen trending hashtag"
     ]
    },
    {
     "cell_type": "code",
     "collapsed": false,
     "input": [
      "search_results = twitterapi.search.tweets(q=q, count=count)\n",
      "statuses = search_results['statuses']\n",
      "i = 0\n",
      "for i in range(5):\n",
      "    i += 1\n",
      "    print \"Length of statuses\", len(statuses)\n",
      "    try:\n",
      "        next_results = search_results['searchmetadata']['next_results']\n",
      "    except KeyError, e:\n",
      "        break\n",
      "    kwargs = dict([kv.split('=') for kv in next_results[1:].split('&')])\n",
      "    search_results = twitterapi.search.tweets(**kwargs)\n",
      "    statuses += search_results['statuses']\n",
      "    \n",
      "print json.dumps(statuses[0], indent=1)\n",
      "            "
     ],
     "language": "python",
     "metadata": {},
     "outputs": [
      {
       "output_type": "stream",
       "stream": "stdout",
       "text": [
        "Length of statuses 100\n",
        "{\n",
        " \"contributors\": null, \n",
        " \"truncated\": false, \n",
        " \"text\": \"RT @lookhemmings96: Tell me where you're hiding your llama doll\\n#Replace5sosSongsWithLlama\", \n",
        " \"in_reply_to_status_id\": null, \n",
        " \"id\": 499855087217278976, \n",
        " \"favorite_count\": 0, \n",
        " \"source\": \"<a href=\\\"http://twitter.com/download/iphone\\\" rel=\\\"nofollow\\\">Twitter for iPhone</a>\", \n",
        " \"retweeted\": false, \n",
        " \"coordinates\": null, \n",
        " \"entities\": {\n",
        "  \"symbols\": [], \n",
        "  \"user_mentions\": [\n",
        "   {\n",
        "    \"id\": 306042854, \n",
        "    \"indices\": [\n",
        "     3, \n",
        "     18\n",
        "    ], \n",
        "    \"id_str\": \"306042854\", \n",
        "    \"screen_name\": \"lookhemmings96\", \n",
        "    \"name\": \"monic\\u03b1 | TY LUKEY:')\"\n",
        "   }\n",
        "  ], \n",
        "  \"hashtags\": [\n",
        "   {\n",
        "    \"indices\": [\n",
        "     64, \n",
        "     90\n",
        "    ], \n",
        "    \"text\": \"Replace5sosSongsWithLlama\"\n",
        "   }\n",
        "  ], \n",
        "  \"urls\": []\n",
        " }, \n",
        " \"in_reply_to_screen_name\": null, \n",
        " \"in_reply_to_user_id\": null, \n",
        " \"retweet_count\": 8, \n",
        " \"id_str\": \"499855087217278976\", \n",
        " \"favorited\": false, \n",
        " \"retweeted_status\": {\n",
        "  \"contributors\": null, \n",
        "  \"truncated\": false, \n",
        "  \"text\": \"Tell me where you're hiding your llama doll\\n#Replace5sosSongsWithLlama\", \n",
        "  \"in_reply_to_status_id\": null, \n",
        "  \"id\": 499854215452180480, \n",
        "  \"favorite_count\": 3, \n",
        "  \"source\": \"<a href=\\\"http://twitter.com\\\" rel=\\\"nofollow\\\">Twitter Web Client</a>\", \n",
        "  \"retweeted\": false, \n",
        "  \"coordinates\": null, \n",
        "  \"entities\": {\n",
        "   \"symbols\": [], \n",
        "   \"user_mentions\": [], \n",
        "   \"hashtags\": [\n",
        "    {\n",
        "     \"indices\": [\n",
        "      44, \n",
        "      70\n",
        "     ], \n",
        "     \"text\": \"Replace5sosSongsWithLlama\"\n",
        "    }\n",
        "   ], \n",
        "   \"urls\": []\n",
        "  }, \n",
        "  \"in_reply_to_screen_name\": null, \n",
        "  \"in_reply_to_user_id\": null, \n",
        "  \"retweet_count\": 8, \n",
        "  \"id_str\": \"499854215452180480\", \n",
        "  \"favorited\": false, \n",
        "  \"user\": {\n",
        "   \"follow_request_sent\": false, \n",
        "   \"profile_use_background_image\": true, \n",
        "   \"default_profile_image\": false, \n",
        "   \"id\": 306042854, \n",
        "   \"profile_background_image_url_https\": \"https://pbs.twimg.com/profile_background_images/497981067232411648/SutDUTQI.jpeg\", \n",
        "   \"verified\": false, \n",
        "   \"profile_text_color\": \"000000\", \n",
        "   \"profile_image_url_https\": \"https://pbs.twimg.com/profile_images/496195578192076800/3Xu5GinH_normal.jpeg\", \n",
        "   \"profile_sidebar_fill_color\": \"000000\", \n",
        "   \"entities\": {\n",
        "    \"description\": {\n",
        "     \"urls\": []\n",
        "    }\n",
        "   }, \n",
        "   \"followers_count\": 1786, \n",
        "   \"profile_sidebar_border_color\": \"000000\", \n",
        "   \"id_str\": \"306042854\", \n",
        "   \"profile_background_color\": \"000000\", \n",
        "   \"listed_count\": 21, \n",
        "   \"is_translation_enabled\": false, \n",
        "   \"utc_offset\": 43200, \n",
        "   \"statuses_count\": 8005, \n",
        "   \"description\": \"i wanted one reason to smile but i discovered four :') lukey/4 :')\", \n",
        "   \"friends_count\": 611, \n",
        "   \"location\": \"nz \\u2661\", \n",
        "   \"profile_link_color\": \"DE8ED2\", \n",
        "   \"profile_image_url\": \"http://pbs.twimg.com/profile_images/496195578192076800/3Xu5GinH_normal.jpeg\", \n",
        "   \"following\": false, \n",
        "   \"geo_enabled\": true, \n",
        "   \"profile_banner_url\": \"https://pbs.twimg.com/profile_banners/306042854/1405460260\", \n",
        "   \"profile_background_image_url\": \"http://pbs.twimg.com/profile_background_images/497981067232411648/SutDUTQI.jpeg\", \n",
        "   \"screen_name\": \"lookhemmings96\", \n",
        "   \"lang\": \"en\", \n",
        "   \"profile_background_tile\": true, \n",
        "   \"favourites_count\": 2365, \n",
        "   \"name\": \"monic\\u03b1 | TY LUKEY:')\", \n",
        "   \"notifications\": false, \n",
        "   \"url\": null, \n",
        "   \"created_at\": \"Fri May 27 05:32:45 +0000 2011\", \n",
        "   \"contributors_enabled\": false, \n",
        "   \"time_zone\": \"Wellington\", \n",
        "   \"protected\": false, \n",
        "   \"default_profile\": false, \n",
        "   \"is_translator\": false\n",
        "  }, \n",
        "  \"geo\": null, \n",
        "  \"in_reply_to_user_id_str\": null, \n",
        "  \"lang\": \"en\", \n",
        "  \"created_at\": \"Thu Aug 14 09:45:06 +0000 2014\", \n",
        "  \"in_reply_to_status_id_str\": null, \n",
        "  \"place\": null, \n",
        "  \"metadata\": {\n",
        "   \"iso_language_code\": \"en\", \n",
        "   \"result_type\": \"recent\"\n",
        "  }\n",
        " }, \n",
        " \"user\": {\n",
        "  \"follow_request_sent\": false, \n",
        "  \"profile_use_background_image\": true, \n",
        "  \"default_profile_image\": false, \n",
        "  \"id\": 745576442, \n",
        "  \"profile_background_image_url_https\": \"https://pbs.twimg.com/profile_background_images/454496476027043841/DUWC1O5W.jpeg\", \n",
        "  \"verified\": false, \n",
        "  \"profile_text_color\": \"333333\", \n",
        "  \"profile_image_url_https\": \"https://pbs.twimg.com/profile_images/477880468184920064/sR2VpVWK_normal.jpeg\", \n",
        "  \"profile_sidebar_fill_color\": \"DDEEF6\", \n",
        "  \"entities\": {\n",
        "   \"description\": {\n",
        "    \"urls\": []\n",
        "   }\n",
        "  }, \n",
        "  \"followers_count\": 345, \n",
        "  \"profile_sidebar_border_color\": \"FFFFFF\", \n",
        "  \"id_str\": \"745576442\", \n",
        "  \"profile_background_color\": \"242E33\", \n",
        "  \"listed_count\": 3, \n",
        "  \"is_translation_enabled\": false, \n",
        "  \"utc_offset\": -25200, \n",
        "  \"statuses_count\": 7137, \n",
        "  \"description\": \"|| 5SOS FAM || IG: @kelli.x ||\", \n",
        "  \"friends_count\": 444, \n",
        "  \"location\": \"\", \n",
        "  \"profile_link_color\": \"0084B4\", \n",
        "  \"profile_image_url\": \"http://pbs.twimg.com/profile_images/477880468184920064/sR2VpVWK_normal.jpeg\", \n",
        "  \"following\": false, \n",
        "  \"geo_enabled\": false, \n",
        "  \"profile_banner_url\": \"https://pbs.twimg.com/profile_banners/745576442/1382670669\", \n",
        "  \"profile_background_image_url\": \"http://pbs.twimg.com/profile_background_images/454496476027043841/DUWC1O5W.jpeg\", \n",
        "  \"screen_name\": \"Kellieleisasian\", \n",
        "  \"lang\": \"en\", \n",
        "  \"profile_background_tile\": true, \n",
        "  \"favourites_count\": 9148, \n",
        "  \"name\": \"kellie le\", \n",
        "  \"notifications\": false, \n",
        "  \"url\": null, \n",
        "  \"created_at\": \"Wed Aug 08 17:09:49 +0000 2012\", \n",
        "  \"contributors_enabled\": false, \n",
        "  \"time_zone\": \"Arizona\", \n",
        "  \"protected\": false, \n",
        "  \"default_profile\": false, \n",
        "  \"is_translator\": false\n",
        " }, \n",
        " \"geo\": null, \n",
        " \"in_reply_to_user_id_str\": null, \n",
        " \"lang\": \"en\", \n",
        " \"created_at\": \"Thu Aug 14 09:48:34 +0000 2014\", \n",
        " \"in_reply_to_status_id_str\": null, \n",
        " \"place\": null, \n",
        " \"metadata\": {\n",
        "  \"iso_language_code\": \"en\", \n",
        "  \"result_type\": \"recent\"\n",
        " }\n",
        "}\n"
       ]
      }
     ],
     "prompt_number": 10
    },
    {
     "cell_type": "heading",
     "level": 3,
     "metadata": {},
     "source": [
      "Print examples of the tweet text, the users mentioned in tweet text, the hash tags mentioned in tweet text and the text words"
     ]
    },
    {
     "cell_type": "code",
     "collapsed": false,
     "input": [
      "status_texts = [status['text'] for status in statuses]\n",
      "print json.dumps(status_texts[:5], indent = 1)\n",
      "screen_names = [user_mention['screen_name'] for status in statuses for user_mention in status['entities']['user_mentions']]\n",
      "print json.dumps(screen_names[:5], indent=1)\n",
      "hash_tags = [hashtag['text'] for status in statuses for hashtag in status['entities']['hashtags']]\n",
      "print json.dumps(hash_tags[:5], indent=1)\n",
      "words = [w for t in status_texts for w in t.split()]\n",
      "print json.dumps(words[:5], indent=1)\n"
     ],
     "language": "python",
     "metadata": {},
     "outputs": [
      {
       "output_type": "stream",
       "stream": "stdout",
       "text": [
        "[\n",
        " \"RT @lookhemmings96: Tell me where you're hiding your llama doll\\n#Replace5sosSongsWithLlama\", \n",
        " \"RT @QTyoutubers: MICHAEL WANTS ANOTHER LLAMA \\nMICHAEL WANTS ANOTHER LLAMA\\nMICHAEL WANTS ANOTHER LLAMA #Replace5sosSongsWithLlama\", \n",
        " \"#Replace5sosSongsWithLlama\\nSometimes i start to wonder was it just a llama?\", \n",
        " \"RT @TamaraPxllard: so tell me what else can I do, I bought my fake llama for you #Replace5sosSongsWithLlama\", \n",
        " \"SCREAMING AT THE TOP OF MY LLAMA TILL MY CHEST FELT TIGHT\\n\\n#Replace5sosSongsWithLlama\"\n",
        "]\n",
        "[\n",
        " \"lookhemmings96\", \n",
        " \"QTyoutubers\", \n",
        " \"TamaraPxllard\", \n",
        " \"theheist__\", \n",
        " \"_Smile_ForMe_\"\n",
        "]\n",
        "[\n",
        " \"Replace5sosSongsWithLlama\", \n",
        " \"Replace5sosSongsWithLlama\", \n",
        " \"Replace5sosSongsWithLlama\", \n",
        " \"Replace5sosSongsWithLlama\", \n",
        " \"Replace5sosSongsWithLlama\"\n",
        "]\n",
        "[\n",
        " \"RT\", \n",
        " \"@lookhemmings96:\", \n",
        " \"Tell\", \n",
        " \"me\", \n",
        " \"where\"\n",
        "]\n"
       ]
      }
     ],
     "prompt_number": 11
    },
    {
     "cell_type": "heading",
     "level": 3,
     "metadata": {},
     "source": [
      "Find the users, hashtags and words which are occurring most frequently in the sample text"
     ]
    },
    {
     "cell_type": "code",
     "collapsed": false,
     "input": [
      "from collections import Counter\n",
      "for item in [words, screen_names, hash_tags]:\n",
      "    c = Counter(item)\n",
      "    print c.most_common()[:10]\n",
      "    print"
     ],
     "language": "python",
     "metadata": {},
     "outputs": [
      {
       "output_type": "stream",
       "stream": "stdout",
       "text": [
        "[(u'#Replace5sosSongsWithLlama', 98), (u'llama', 47), (u'RT', 43), (u'the', 29), (u'a', 27), (u'I', 27), (u'my', 21), (u'you', 21), (u'your', 17), (u'Llama', 16)]\n",
        "\n",
        "[(u'_5SOSFAMUPDATES', 5), (u'Daniel_5sos', 3), (u'sexweedoreos', 3), (u'kissingxlrh', 2), (u'phantxsia', 2), (u'mxshtonwifi', 2), (u'lookhemmings96', 2), (u'mashtonfeelsx', 2), (u'mesmerizedmikey', 2), (u'sykesxirwin', 1)]\n",
        "\n",
        "[(u'Replace5sosSongsWithLlama', 100), (u'BPIE', 1), (u'\\u0130mkan\\u0131m\\u0131zOlsada', 1), (u'zadzwo\\u0144doprzypadkowegotwitterowicza', 1), (u'MilletinPartisi13yas\\u0131nda', 1), (u'Llamafollowparty', 1)]\n",
        "\n"
       ]
      }
     ],
     "prompt_number": 12
    },
    {
     "cell_type": "code",
     "collapsed": false,
     "input": [
      "from prettytable import PrettyTable\n",
      "\n",
      "for label, data in (('Word', words), ('Screen Name', screen_names), ('Hashtag', hash_tags)):\n",
      "    pt = PrettyTable(field_names=[label, 'Count'])\n",
      "    c = Counter(data)\n",
      "    [ pt.add_row(kv) for kv in c.most_common()[:10] ]\n",
      "    pt.align[label], pt.align['Count'] = 'l','r'\n",
      "    print pt"
     ],
     "language": "python",
     "metadata": {},
     "outputs": [
      {
       "output_type": "stream",
       "stream": "stdout",
       "text": [
        "+----------------------------+-------+\n",
        "| Word                       | Count |\n",
        "+----------------------------+-------+\n",
        "| #Replace5sosSongsWithLlama |    98 |\n",
        "| llama                      |    47 |\n",
        "| RT                         |    43 |\n",
        "| the                        |    29 |\n",
        "| a                          |    27 |\n",
        "| I                          |    27 |\n",
        "| my                         |    21 |\n",
        "| you                        |    21 |\n",
        "| your                       |    17 |\n",
        "| Llama                      |    16 |\n",
        "+----------------------------+-------+\n",
        "+-----------------+-------+\n",
        "| Screen Name     | Count |\n",
        "+-----------------+-------+\n",
        "| _5SOSFAMUPDATES |     5 |\n",
        "| Daniel_5sos     |     3 |\n",
        "| sexweedoreos    |     3 |\n",
        "| kissingxlrh     |     2 |\n",
        "| phantxsia       |     2 |\n",
        "| mxshtonwifi     |     2 |\n",
        "| lookhemmings96  |     2 |\n",
        "| mashtonfeelsx   |     2 |\n",
        "| mesmerizedmikey |     2 |\n",
        "| sykesxirwin     |     1 |\n",
        "+-----------------+-------+\n",
        "+-------------------------------------+-------+\n",
        "| Hashtag                             | Count |\n",
        "+-------------------------------------+-------+\n",
        "| Replace5sosSongsWithLlama           |   100 |\n",
        "| BPIE                                |     1 |\n",
        "| \u0130mkan\u0131m\u0131zOlsada                     |     1 |\n",
        "| zadzwo\u0144doprzypadkowegotwitterowicza |     1 |\n",
        "| MilletinPartisi13yas\u0131nda            |     1 |\n",
        "| Llamafollowparty                    |     1 |\n",
        "+-------------------------------------+-------+\n"
       ]
      }
     ],
     "prompt_number": 61
    },
    {
     "cell_type": "heading",
     "level": 3,
     "metadata": {},
     "source": [
      "How diverse is the tweet text, the user mentions and the hash tags. The hash tags are the least diverse and the user mentions are the most diverse."
     ]
    },
    {
     "cell_type": "code",
     "collapsed": false,
     "input": [
      "def lexical_diversity(tokens):\n",
      "    return 1.0 * len(set(tokens))/len(tokens)\n",
      "\n",
      "def average_words_per_tweet(statuses):\n",
      "    total_words = sum([len(status.split()) for status in statuses])\n",
      "    return 1.0 * (total_words/len(statuses))\n",
      "\n",
      "print lexical_diversity(words)\n",
      "print lexical_diversity(screen_names)\n",
      "print lexical_diversity(hash_tags)\n",
      "print average_words_per_tweet(status_texts)"
     ],
     "language": "python",
     "metadata": {},
     "outputs": [
      {
       "output_type": "stream",
       "stream": "stdout",
       "text": [
        "0.358766233766\n",
        "0.688888888889\n",
        "0.0571428571429\n",
        "12.0\n"
       ]
      }
     ],
     "prompt_number": 21
    },
    {
     "cell_type": "heading",
     "level": 3,
     "metadata": {},
     "source": [
      "Finding the most retweeted tweets, users and the retweet count"
     ]
    },
    {
     "cell_type": "code",
     "collapsed": false,
     "input": [
      "def get_retweets(statuses):\n",
      "    retweets = [(status['retweet_count'], status['retweeted_status']['user']['screen_name'], status['text'], status['retweeted_status']['id']) \n",
      "                for status in statuses if status.has_key('retweeted_status')]\n",
      "    retweets_set = set(retweets)\n",
      "    unique_retweets = list(retweets_set)\n",
      "    return unique_retweets\n",
      "\n",
      "retweets = get_retweets(statuses)\n",
      "pt = PrettyTable(field_names=['Count', 'User', 'Text', 'Origin Tweet id'])\n",
      "[pt.add_row(retweet) for retweet in sorted(retweets, reverse=True)[:5]]\n",
      "pt.max_width['Text'] = 100\n",
      "pt.align = 'l'\n",
      "print pt"
     ],
     "language": "python",
     "metadata": {},
     "outputs": [
      {
       "output_type": "stream",
       "stream": "stdout",
       "text": [
        "+-------+-----------------+------------------------------------------------------------------------------------------------------+--------------------+\n",
        "| Count | User            | Text                                                                                                 | Origin Tweet id    |\n",
        "+-------+-----------------+------------------------------------------------------------------------------------------------------+--------------------+\n",
        "| 113   | sexweedoreos    | RT @sexweedoreos: This is llama on the big screen                                                    | 499832689768562689 |\n",
        "|       |                 |  #Replace5sosSongsWithLlama http://t.co/JlIeQaBBAC                                                   |                    |\n",
        "| 71    | angelxhemmo     | RT @angelxhemmo: She's a good llama, she's daddy's favorite #Replace5sosSongsWithLlama               | 499831199196381184 |\n",
        "| 40    | mesmerizedmikey | RT @mesmerizedmikey: It's not a secret that I'm just a llama #Replace5sosSongsWithLlama              | 499830164683894784 |\n",
        "| 30    | 5SOSPHTeam      | RT @5SOSPHTeam: #Replace5sosSongsWithLlama Good girls are Bad Llamas that haven't been caught!       | 499846991199752192 |\n",
        "| 29    | _5SOSFAMUPDATES | RT @_5SOSFAMUPDATES: Llama's getting naked, falling on their faces #Replace5sosSongsWithLlama        | 499853787444830208 |\n",
        "|       |                 | http://t.co/Feu9YWRXtw                                                                               |                    |\n",
        "+-------+-----------------+------------------------------------------------------------------------------------------------------+--------------------+\n"
       ]
      }
     ],
     "prompt_number": 39
    },
    {
     "cell_type": "code",
     "collapsed": false,
     "input": [
      "top_retweet_id = sorted(retweets, reverse=True)[0][3]\n",
      "retweeters = [retweet['user']['screen_name'] for retweet in twitterapi.statuses.retweets(id=top_retweet_id)]\n",
      "print retweeters"
     ],
     "language": "python",
     "metadata": {},
     "outputs": [
      {
       "output_type": "stream",
       "stream": "stdout",
       "text": [
        "[u'JMSster', u'AlejandraJune1', u'SoyUnLacasito_', u'cliffordiculous', u'Kieannasm', u'mollycharlotte_', u'HoranHugs1925', u'Perfect5SSummer', u'LSGB2012', u'hxmmingstylxss', u'abimallett', u'Liv_2204', u'badbasshood_', u'SparklezNstuff', u'1D_yuumi', u'chloelaraaa', u'hannahcald15', u'emksinger818', u'verdeparigi', u'winwnnie']\n"
       ]
      }
     ],
     "prompt_number": 46
    },
    {
     "cell_type": "code",
     "collapsed": false,
     "input": [
      "word_counter = Counter(words)\n",
      "plt.loglog(sorted(word_counter.values(), reverse=True))\n",
      "plt.ylabel('Word Frequency')\n",
      "plt.xlabel('Word rank')"
     ],
     "language": "python",
     "metadata": {},
     "outputs": [
      {
       "metadata": {},
       "output_type": "pyout",
       "prompt_number": 60,
       "text": [
        "<matplotlib.text.Text at 0x7f70d6b5d6d0>"
       ]
      },
      {
       "metadata": {},
       "output_type": "display_data",
       "png": "[encoded data removed]",
       "text": [
        "<matplotlib.figure.Figure at 0x7f70d6e96f90>"
       ]
      }
     ],
     "prompt_number": 60
    },
    {
     "cell_type": "code",
     "collapsed": false,
     "input": [
      "for label, data in [(\"Words\", words), (\"Screen names\", screen_names), (\"Hashtags\", hash_tags)]:\n",
      "    c=Counter(data)\n",
      "    plt.hist(c.values())\n",
      "    plt.title(\"Frequency distribution\")\n",
      "    plt.ylabel(\"Number of words with that frequency\")\n",
      "    plt.xlabel(\"Frequency of occurence\")\n",
      "    plt.figure()"
     ],
     "language": "python",
     "metadata": {},
     "outputs": [
      {
       "metadata": {},
       "output_type": "display_data",
       "png": "[encoded data removed]",
       "text": [
        "<matplotlib.figure.Figure at 0x7f70d63f5bd0>"
       ]
      },
      {
       "metadata": {},
       "output_type": "display_data",
       "png": "[encoded data removed]",
       "text": [
        "<matplotlib.figure.Figure at 0x7f70d63fe490>"
       ]
      },
      {
       "metadata": {},
       "output_type": "display_data",
       "png": "[encoded data removed]",
       "text": [
        "<matplotlib.figure.Figure at 0x7f70d64e2a90>"
       ]
      },
      {
       "metadata": {},
       "output_type": "display_data",
       "text": [
        "<matplotlib.figure.Figure at 0x7f70d661ff90>"
       ]
      }
     ],
     "prompt_number": 68
    },
    {
     "cell_type": "code",
     "collapsed": false,
     "input": [
      "retweet_counts = [count for count, _, _, _ in retweets]\n",
      "plt.hist(retweet_counts)\n",
      "plt.title(\"Retweet frequency distribution\")\n",
      "plt.ylabel('Number of tweets')\n",
      "plt.xlabel('Number of times retweeted')"
     ],
     "language": "python",
     "metadata": {},
     "outputs": [
      {
       "metadata": {},
       "output_type": "pyout",
       "prompt_number": 71,
       "text": [
        "<matplotlib.text.Text at 0x7f70d63d8d50>"
       ]
      },
      {
       "metadata": {},
       "output_type": "display_data",
       "png": "[encoded data removed]",
       "text": [
        "<matplotlib.figure.Figure at 0x7f70d6568590>"
       ]
      }
     ],
     "prompt_number": 71
    },
    {
     "cell_type": "code",
     "collapsed": false,
     "input": [],
     "language": "python",
     "metadata": {},
     "outputs": []
    }
   ],
   "metadata": {}
  }
 ]
}